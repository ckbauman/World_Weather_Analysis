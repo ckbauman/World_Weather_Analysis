{
 "cells": [
  {
   "cell_type": "code",
   "execution_count": null,
   "id": "b5df6d98",
   "metadata": {},
   "outputs": [],
   "source": [
    "# 6.1.4 cont....\n",
    "\n",
    "\n",
    "# Import the dependencies.\n",
    "import pandas as pd\n",
    "import matplotlib.pyplot as plt\n",
    "import numpy as np"
   ]
  },
  {
   "cell_type": "code",
   "execution_count": null,
   "id": "37eb209c",
   "metadata": {},
   "outputs": [],
   "source": [
    "# Create a set of random latitude and longitude combinations.\n",
    "# zip lat and lngs together\n",
    "# zip object will be in memory creating a tuple with index\n",
    "\n",
    "lats = np.random.uniform(low=-90.000, high=90.000, size=1500)\n",
    "lngs = np.random.uniform(low=-180.000, high=180.000, size=1500)\n",
    "lat_lngs = zip(lats, lngs)\n",
    "lat_lngs"
   ]
  },
  {
   "cell_type": "code",
   "execution_count": null,
   "id": "1c44741e",
   "metadata": {},
   "outputs": [],
   "source": [
    "# unpack lat_lngs zip object into a list\n",
    "#  NOTE:  CAN ONLY UNZIP TUPLE ONCE BEFORE IT IS REMOVED FROM COMOPUTER MEMORY\n",
    "#       MAKE SURE UNZIP INTO LIST BEFORE MOVING ON\n",
    "\n",
    "\n",
    "# Add the latitudes and longitudes to a list.\n",
    "coordinates = list(lat_lngs)"
   ]
  },
  {
   "cell_type": "code",
   "execution_count": null,
   "id": "df76760d",
   "metadata": {},
   "outputs": [],
   "source": [
    "# 6.1.5   Generate Random World Cities"
   ]
  },
  {
   "cell_type": "code",
   "execution_count": null,
   "id": "bc0167e4",
   "metadata": {},
   "outputs": [],
   "source": [
    "# USE citipy"
   ]
  },
  {
   "cell_type": "code",
   "execution_count": null,
   "id": "e070d677",
   "metadata": {},
   "outputs": [],
   "source": [
    "# Use the citipy module to determine city based on latitude and longitude.\n",
    "from citipy import citipy"
   ]
  },
  {
   "cell_type": "code",
   "execution_count": null,
   "id": "e7495586",
   "metadata": {},
   "outputs": [],
   "source": [
    "# Create a list for holding the cities.\n",
    "cities = []\n",
    "# Identify the nearest city for each latitude and longitude combination.\n",
    "for coordinate in coordinates:\n",
    "    city = citipy.nearest_city(coordinate[0], coordinate[1]).city_name\n",
    "\n",
    "    # If the city is unique, then we will add it to the cities list.\n",
    "    # using not in to determine whether the found city is already in the\n",
    "    # cities list.  If not then append to add it (to avoid duplicates)\n",
    "    if city not in cities:\n",
    "        cities.append(city)\n",
    "# Print the city count to confirm sufficient count.\n",
    "len(cities)"
   ]
  },
  {
   "cell_type": "code",
   "execution_count": null,
   "id": "0305e196",
   "metadata": {},
   "outputs": [],
   "source": [
    "# 6.2.6  Get the City Weather Data"
   ]
  },
  {
   "cell_type": "code",
   "execution_count": null,
   "id": "dca11d26",
   "metadata": {},
   "outputs": [],
   "source": [
    "# Import the requests library.\n",
    "import requests\n",
    "\n",
    "# Import the API key.\n",
    "from config import weather_api_key"
   ]
  },
  {
   "cell_type": "code",
   "execution_count": null,
   "id": "56ef603c",
   "metadata": {},
   "outputs": [],
   "source": [
    "# Starting URL for Weather Map API Call.\n",
    "# units= Imperial    standard, metric, imperial options\n",
    "url = \"http://api.openweathermap.org/data/2.5/weather?units=Imperial&APPID=\" + weather_api_key\n",
    "#print(url)"
   ]
  },
  {
   "cell_type": "code",
   "execution_count": null,
   "id": "abf8b2b3",
   "metadata": {},
   "outputs": [],
   "source": [
    "# Import the datetime module from the datetime library.\n",
    "from datetime import datetime"
   ]
  },
  {
   "cell_type": "code",
   "execution_count": null,
   "id": "f33ceb22",
   "metadata": {
    "scrolled": false
   },
   "outputs": [],
   "source": [
    "# Create an empty list to hold the weather data.\n",
    "city_data = []\n",
    "# Print the beginning of the logging.\n",
    "print(\"Beginning Data Retrieval     \")\n",
    "print(\"-----------------------------\")\n",
    "\n",
    "# Create counters. Initialized at 1 becasue want the first iteration of \n",
    "# logging for each recorded response and set to start at 1\n",
    "record_count = 1\n",
    "set_count = 1\n",
    "\n",
    "# Loop through all the cities in the list. \n",
    "# using enumerate() get index of the city for logging purposes\n",
    "# city for creating an endpoint URL\n",
    "for i, city in enumerate(cities):\n",
    "\n",
    "    # Group cities in sets of 50 for logging purposes.\n",
    "    # if remainder of index divided by 50 is equal to 0\n",
    "    # and if index greater than or equal to 50\n",
    "    # if true then set count and record count increment by 1\n",
    "    \n",
    "    if (i % 50 == 0 and i >= 50):\n",
    "        set_count += 1\n",
    "        record_count = 1\n",
    "    # Create endpoint URL with each city.\n",
    "    # removing blank spaces in the city name and concat city name\n",
    "    \n",
    "    city_url = url + \"&q=\" + city.replace(\" \",\"+\")\n",
    "\n",
    "    # Log the URL, record, and set numbers and the city.\n",
    "    print(f\"Processing Record {record_count} of Set {set_count} | {city}\")\n",
    "    # Add 1 to the record count. before the next city is processed\n",
    "    record_count += 1\n",
    "    \n",
    "    # ADD TRY-EXCEPT TO THE RUN\n",
    "    \n",
    "    # Run an API request for each of the cities.\n",
    "    try:\n",
    "        # Parse the JSON and retrieve data.\n",
    "        city_weather = requests.get(city_url).json()\n",
    "        # Parse out the needed data.\n",
    "        city_lat = city_weather[\"coord\"][\"lat\"]\n",
    "        city_lng = city_weather[\"coord\"][\"lon\"]\n",
    "        city_max_temp = city_weather[\"main\"][\"temp_max\"]\n",
    "        city_humidity = city_weather[\"main\"][\"humidity\"]\n",
    "        city_clouds = city_weather[\"clouds\"][\"all\"]\n",
    "        city_wind = city_weather[\"wind\"][\"speed\"]\n",
    "        city_country = city_weather[\"sys\"][\"country\"]\n",
    "        # Convert the date to ISO standard.\n",
    "        city_date = datetime.utcfromtimestamp(city_weather[\"dt\"]).strftime('%Y-%m-%d %H:%M:%S')\n",
    "        # Append the city information into city_data list.\n",
    "        city_data.append({\"City\": city.title(),\n",
    "                          \"Lat\": city_lat,\n",
    "                          \"Lng\": city_lng,\n",
    "                          \"Max Temp\": city_max_temp,\n",
    "                          \"Humidity\": city_humidity,\n",
    "                          \"Cloudiness\": city_clouds,\n",
    "                          \"Wind Speed\": city_wind,\n",
    "                          \"Country\": city_country,\n",
    "                          \"Date\": city_date})\n",
    "\n",
    "# If an error is experienced, skip the city.\n",
    "# pass statement general purpose to handle all errors encountered and allow\n",
    "# program to continue\n",
    "    except:\n",
    "        print(\"City not found. Skipping...\")\n",
    "        pass\n",
    "\n",
    "# Indicate that Data Loading is complete.\n",
    "print(\"-----------------------------\")\n",
    "print(\"Data Retrieval Complete      \")\n",
    "print(\"-----------------------------\")\n",
    "    \n",
    "    "
   ]
  },
  {
   "cell_type": "code",
   "execution_count": null,
   "id": "8656c7d1",
   "metadata": {},
   "outputs": [],
   "source": [
    "# how many rows of data did we just spit out\n",
    "\n",
    "len(city_data)"
   ]
  },
  {
   "cell_type": "code",
   "execution_count": null,
   "id": "0149ecc1",
   "metadata": {},
   "outputs": [],
   "source": [
    "# 6.2.7 Create a DataFrame of City Wx Data"
   ]
  },
  {
   "cell_type": "code",
   "execution_count": null,
   "id": "21bbd2b9",
   "metadata": {
    "scrolled": true
   },
   "outputs": [],
   "source": [
    "# Convert the array of dictionaries to a Pandas DataFrame.\n",
    "# city_data was just created above\n",
    "city_data_df = pd.DataFrame(city_data)\n",
    "city_data_df.head(10)"
   ]
  },
  {
   "cell_type": "code",
   "execution_count": null,
   "id": "6cc38d24",
   "metadata": {
    "scrolled": true
   },
   "outputs": [],
   "source": [
    "# put columns in the right order\n",
    "\n",
    "new_column_order = [\"City\", \"Country\", \"Date\", \"Lat\", \"Lng\", \"Max Temp\",\n",
    "                    \"Humidity\", \"Cloudiness\", \"Wind Speed\"]\n",
    "city_data_df = city_data_df[new_column_order]\n",
    "city_data_df.head(10)"
   ]
  },
  {
   "cell_type": "code",
   "execution_count": null,
   "id": "e790995c",
   "metadata": {},
   "outputs": [],
   "source": [
    "# Create the output file (CSV).\n",
    "output_data_file = \"weather_data/cities.csv\"\n",
    "# Export the City_Data into a CSV.\n",
    "# with index label (or column A) header of City_ID\n",
    "city_data_df.to_csv(output_data_file, index_label=\"City_ID\")"
   ]
  },
  {
   "cell_type": "code",
   "execution_count": null,
   "id": "e8344df6",
   "metadata": {},
   "outputs": [],
   "source": [
    "# 6.3.1   Plot latitude vs Temp\n",
    "\n",
    "# need lats, max temps, humidity, cloudiness, wind speed"
   ]
  },
  {
   "cell_type": "code",
   "execution_count": null,
   "id": "81268bf4",
   "metadata": {},
   "outputs": [],
   "source": [
    "# Extract relevant fields from the DataFrame for plotting.\n",
    "lats = city_data_df[\"Lat\"]\n",
    "max_temps = city_data_df[\"Max Temp\"]\n",
    "humidity = city_data_df[\"Humidity\"]\n",
    "cloudiness = city_data_df[\"Cloudiness\"]\n",
    "wind_speed = city_data_df[\"Wind Speed\"]"
   ]
  },
  {
   "cell_type": "code",
   "execution_count": null,
   "id": "8a0072b0",
   "metadata": {},
   "outputs": [],
   "source": [
    "# use time module from standard Python library"
   ]
  },
  {
   "cell_type": "code",
   "execution_count": null,
   "id": "80c1382d",
   "metadata": {
    "scrolled": true
   },
   "outputs": [],
   "source": [
    "#  SCATTER PLOT MAX TEMP\n",
    "\n",
    "# Import time module\n",
    "import time\n",
    "\n",
    "# Build the scatter plot for latitude vs. max temperature.\n",
    "# marker is circles, transparency 0.8\n",
    "plt.scatter(lats,\n",
    "            max_temps,\n",
    "            edgecolor=\"black\", linewidths=1, marker=\"o\",\n",
    "            alpha=0.8, label=\"Cities\")\n",
    "\n",
    "# Incorporate the other graph properties.\n",
    "# use time and format with .strftime() so ouput standard vs. all seconds\n",
    "# time.time would be all in seconds\n",
    "plt.title(f\"City Latitude vs. Max Temperature \"+ time.strftime(\"%x\"))\n",
    "plt.ylabel(\"Max Temperature (F)\")\n",
    "plt.xlabel(\"Latitude\")\n",
    "plt.grid(True)\n",
    "\n",
    "# Save the figure.\n",
    "plt.savefig(\"weather_data/Fig1.png\")\n",
    "\n",
    "# Show plot.\n",
    "plt.show()"
   ]
  },
  {
   "cell_type": "code",
   "execution_count": null,
   "id": "556aaaad",
   "metadata": {},
   "outputs": [],
   "source": [
    "# 6.3.2  Plot Latitude vs Humidity"
   ]
  },
  {
   "cell_type": "code",
   "execution_count": null,
   "id": "09924cf2",
   "metadata": {},
   "outputs": [],
   "source": [
    "#  SCATTER PLOT HUMIDITY\n",
    "\n",
    "# Import time module\n",
    "import time\n",
    "\n",
    "# Build the scatter plot for latitude vs. max temperature.\n",
    "# marker is circles, transparency 0.8\n",
    "plt.scatter(lats,\n",
    "            humidity,\n",
    "            color = \"red\",\n",
    "            edgecolor=\"black\", linewidths=1, marker=\"o\",\n",
    "            alpha=0.8, label=\"Cities\")\n",
    "\n",
    "# Incorporate the other graph properties.\n",
    "# use time and format with .strftime() so ouput standard vs. all seconds\n",
    "# time.time would be all in seconds\n",
    "plt.title(f\"City Latitude vs. Humidity\"+ time.strftime(\"%x\"))\n",
    "plt.ylabel(\"Humidity (%)\")\n",
    "plt.xlabel(\"Latitude\")\n",
    "plt.grid(True)\n",
    "\n",
    "# Save the figure.\n",
    "plt.savefig(\"weather_data/Fig2.png\")\n",
    "\n",
    "# Show plot.\n",
    "plt.show()"
   ]
  },
  {
   "cell_type": "code",
   "execution_count": null,
   "id": "0562702c",
   "metadata": {},
   "outputs": [],
   "source": [
    "# 6.3.3 Plot Latitude vs Cloudiness"
   ]
  },
  {
   "cell_type": "code",
   "execution_count": null,
   "id": "f0a7ec9b",
   "metadata": {},
   "outputs": [],
   "source": [
    "#  SCATTER PLOT CLOUDINESS\n",
    "\n",
    "# Import time module\n",
    "import time\n",
    "\n",
    "# Build the scatter plot for latitude vs. max temperature.\n",
    "# marker is circles, transparency 0.8\n",
    "plt.scatter(lats,\n",
    "            cloudiness,\n",
    "            color=\"green\",\n",
    "            edgecolor=\"black\", linewidths=1, marker=\"o\",\n",
    "            alpha=0.8, label=\"Cities\")\n",
    "\n",
    "# Incorporate the other graph properties.\n",
    "# use time and format with .strftime() so ouput standard vs. all seconds\n",
    "# time.time would be all in seconds\n",
    "plt.title(f\"City Latitude vs. Cloudiness \"+ time.strftime(\"%x\"))\n",
    "plt.ylabel(\"Cloudiness (%)\")\n",
    "plt.xlabel(\"Latitude\")\n",
    "plt.grid(True)\n",
    "\n",
    "# Save the figure.\n",
    "plt.savefig(\"weather_data/Fig3.png\")\n",
    "\n",
    "# Show plot.\n",
    "plt.show()"
   ]
  },
  {
   "cell_type": "code",
   "execution_count": null,
   "id": "4ccb063d",
   "metadata": {},
   "outputs": [],
   "source": [
    "# 6.3.4 Plot Latitude vs Wind Speed"
   ]
  },
  {
   "cell_type": "code",
   "execution_count": null,
   "id": "feeef8e8",
   "metadata": {},
   "outputs": [],
   "source": [
    "#  SCATTER PLOT WIND SPEED\n",
    "\n",
    "# Import time module\n",
    "import time\n",
    "\n",
    "# Build the scatter plot for latitude vs. max temperature.\n",
    "# marker is circles, transparency 0.8\n",
    "plt.scatter(lats,\n",
    "            wind_speed,\n",
    "            color=\"yellow\",\n",
    "            edgecolor=\"black\", linewidths=1, marker=\"o\",\n",
    "            alpha=0.8, label=\"Cities\")\n",
    "\n",
    "# Incorporate the other graph properties.\n",
    "# use time and format with .strftime() so ouput standard vs. all seconds\n",
    "# time.time would be all in seconds\n",
    "plt.title(f\"City Latitude vs. Wind Speed\"+ time.strftime(\"%x\"))\n",
    "plt.ylabel(\"Wind Speed (mph)\")\n",
    "plt.xlabel(\"Latitude\")\n",
    "plt.grid(True)\n",
    "\n",
    "# Save the figure.\n",
    "plt.savefig(\"weather_data/Fig4.png\")\n",
    "\n",
    "# Show plot.\n",
    "plt.show()"
   ]
  },
  {
   "cell_type": "code",
   "execution_count": null,
   "id": "91cf9c00",
   "metadata": {},
   "outputs": [],
   "source": [
    "# 6.4.2 find correlation between latitude and Max temp\n",
    "\n",
    "# use the linear Regression function (practiced in random_numbers 6.4.1)"
   ]
  },
  {
   "cell_type": "code",
   "execution_count": null,
   "id": "20d73bd6",
   "metadata": {},
   "outputs": [],
   "source": [
    "# will want to run this for Nothern and Southern Hemispheres and all \n",
    "# four weather parameters: max temp, humidity, cloudiness, wind speed\n",
    "\n",
    "# reuse the code for minor changes for each weather parameter in each hemisphere\n",
    "\n",
    "# x values - latitude\n",
    "# y values - 4 wx parameters\n",
    "# y label - wx parameter\n",
    "# x and y values given as a tuple (10,40) for regression line eq to be on plot\n",
    "\n",
    "# Import linregress\n",
    "from scipy.stats import linregress\n",
    "\n",
    "# Create a function to create perform linear regression on the weather data\n",
    "# and plot a regression line and the equation with the data.\n",
    "# this makes it easier to switch for different values without completely\n",
    "# changing code each time.  Just change the values\n",
    "\n",
    "def plot_linear_regression(x_values, y_values, title, y_label, text_coordinates):\n",
    "\n",
    "    # Run regression on hemisphere weather data.\n",
    "    (slope, intercept, r_value, p_value, std_err) = linregress(x_values, y_values)\n",
    "\n",
    "    # Calculate the regression line \"y values\" from the slope and intercept.\n",
    "    regress_values = x_values * slope + intercept\n",
    "    # Get the equation of the line.\n",
    "    line_eq = \"y = \" + str(round(slope,2)) + \"x + \" + str(round(intercept,2))\n",
    "    # Create a scatter plot and plot the regression line.\n",
    "    plt.scatter(x_values,y_values)\n",
    "    plt.plot(x_values,regress_values,\"r\")\n",
    "    # Annotate the text for the line equation.\n",
    "    plt.annotate(line_eq, text_coordinates, fontsize=15, color=\"red\")\n",
    "    plt.xlabel('Latitude')\n",
    "    plt.ylabel(y_label)\n",
    "    plt.title(title)\n",
    "    plt.show()"
   ]
  },
  {
   "cell_type": "code",
   "execution_count": null,
   "id": "9fa770c8",
   "metadata": {},
   "outputs": [],
   "source": [
    "# Create Hemisphere DataFrames\n",
    "\n",
    "# use city_data_df and loc method"
   ]
  },
  {
   "cell_type": "code",
   "execution_count": null,
   "id": "6cd359ec",
   "metadata": {},
   "outputs": [],
   "source": [
    "# row 13 example\n",
    "\n",
    "index13 = city_data_df.loc[13]\n",
    "index13"
   ]
  },
  {
   "cell_type": "code",
   "execution_count": null,
   "id": "24bcabc3",
   "metadata": {},
   "outputs": [],
   "source": [
    "# filter with loc on value of a row example\n",
    "# all Lat greater then 0 for Northern Latitudes\n",
    "# will show true if greater then 0 or false if not\n",
    "\n",
    "city_data_df[\"Lat\"] >= 0"
   ]
  },
  {
   "cell_type": "code",
   "execution_count": null,
   "id": "b2b976e9",
   "metadata": {},
   "outputs": [],
   "source": [
    "# now this returns a DataFrame with the rows where lat is >= 0 so northern\n",
    "\n",
    "city_data_df.loc[(city_data_df[\"Lat\"] >= 0)].head()"
   ]
  },
  {
   "cell_type": "code",
   "execution_count": null,
   "id": "3d662764",
   "metadata": {},
   "outputs": [],
   "source": [
    "# Create Northern and Southern Hemisphere DataFrames.\n",
    "northern_hemi_df = city_data_df.loc[(city_data_df[\"Lat\"] >= 0)]\n",
    "southern_hemi_df = city_data_df.loc[(city_data_df[\"Lat\"] < 0)]"
   ]
  },
  {
   "cell_type": "code",
   "execution_count": null,
   "id": "49248dcc",
   "metadata": {},
   "outputs": [],
   "source": [
    "# northern_hemi_df.head()"
   ]
  },
  {
   "cell_type": "code",
   "execution_count": null,
   "id": "384bc58c",
   "metadata": {},
   "outputs": [],
   "source": [
    " # southern_hemi_df.head()"
   ]
  },
  {
   "cell_type": "code",
   "execution_count": null,
   "id": "ebd3748f",
   "metadata": {},
   "outputs": [],
   "source": [
    "# NOTE:  had to add plt.title(title) to function above\n",
    "# NOTE: title below wasn't printing write - had to add \\n and rearrange \n",
    "# title to work"
   ]
  },
  {
   "cell_type": "code",
   "execution_count": null,
   "id": "7af37bff",
   "metadata": {},
   "outputs": [],
   "source": [
    "# Perform linear regressionon the Max Temp for Northern Hemi\n",
    "\n",
    "# Linear regression on the Northern Hemisphere\n",
    "x_values = northern_hemi_df[\"Lat\"]\n",
    "y_values = northern_hemi_df[\"Max Temp\"]\n",
    "\n",
    "# Call the function. created above (x value, y value, title, y label, text coordinates)\n",
    "# text coordinates is where placing equation - change range if not showing\n",
    "plot_linear_regression(x_values, y_values,\n",
    "                       'Linear Regression on the Northern Hemisphere \\n for Maximum Temperature', \n",
    "                       'Max Temp',(10,40))"
   ]
  },
  {
   "cell_type": "code",
   "execution_count": null,
   "id": "0e9a55b0",
   "metadata": {},
   "outputs": [],
   "source": [
    "# perform linear regeression Max Temp southern hemi\n",
    "\n",
    "# Linear regression on the Southern Hemisphere\n",
    "x_values = southern_hemi_df[\"Lat\"]\n",
    "y_values = southern_hemi_df[\"Max Temp\"]\n",
    "# Call the function.\n",
    "plot_linear_regression(x_values, y_values,\n",
    "                       'Linear Regression on the Southern Hemisphere \\n for Maximum Temperature', \n",
    "                       'Max Temp',(-50,90))"
   ]
  },
  {
   "cell_type": "code",
   "execution_count": null,
   "id": "106a2e14",
   "metadata": {},
   "outputs": [],
   "source": [
    "# FINDING:  correlation between lat and max temp is very strong\n",
    "# r-value (slope) is less then -0.7 for north\n",
    "# r-value is greater than 0.7 for south\n",
    "# this means as we approach equator temp becomes warmer\n",
    "# further from equator temp is cooler"
   ]
  },
  {
   "cell_type": "code",
   "execution_count": null,
   "id": "a8a9d963",
   "metadata": {},
   "outputs": [],
   "source": [
    "# 6.4.3 Correlation between Lat and Humidity"
   ]
  },
  {
   "cell_type": "code",
   "execution_count": null,
   "id": "a09ca19b",
   "metadata": {},
   "outputs": [],
   "source": [
    "# NORTH lat and Humidity\n",
    "\n",
    "# Linear regression on the Northern Hemisphere\n",
    "x_values = northern_hemi_df[\"Lat\"]\n",
    "y_values = northern_hemi_df[\"Humidity\"]\n",
    "\n",
    "# Call the function. created above (x value, y value, title, y label, text coordinates)\n",
    "# text coordinates is where placing equation - change range if not showing\n",
    "plot_linear_regression(x_values, y_values,\n",
    "                       'Linear Regression on the Northern Hemisphere \\n for % Humidity', \n",
    "                       '% Humidity',(40,10))"
   ]
  },
  {
   "cell_type": "code",
   "execution_count": null,
   "id": "517ea0a1",
   "metadata": {},
   "outputs": [],
   "source": [
    "# SOUTH Lat and Humidity\n",
    "\n",
    "# Linear regression on the Southern Hemisphere\n",
    "x_values = southern_hemi_df[\"Lat\"]\n",
    "y_values = southern_hemi_df[\"Humidity\"]\n",
    "# Call the function.\n",
    "plot_linear_regression(x_values, y_values,\n",
    "                       'Linear Regression on the Southern Hemisphere \\n for % Humidity', \n",
    "                       '% Humidity',(-50,15))"
   ]
  },
  {
   "cell_type": "code",
   "execution_count": null,
   "id": "fdfff3e1",
   "metadata": {},
   "outputs": [],
   "source": [
    "# FINDING correlation between lat and humidity is very low\n",
    "# because r-value is less than 0.4 fo north and south\n",
    "# means humidity is un predictable due to changing weather patterns"
   ]
  },
  {
   "cell_type": "code",
   "execution_count": null,
   "id": "f7a4ecb1",
   "metadata": {},
   "outputs": [],
   "source": [
    "# 6.4.4 Correlation between lat and Cloudiness"
   ]
  },
  {
   "cell_type": "code",
   "execution_count": null,
   "id": "dd4b3b3e",
   "metadata": {},
   "outputs": [],
   "source": [
    "# NORTH lat and Cloudiness\n",
    "\n",
    "# Linear regression on the Northern Hemisphere\n",
    "x_values = northern_hemi_df[\"Lat\"]\n",
    "y_values = northern_hemi_df[\"Cloudiness\"]\n",
    "\n",
    "# Call the function. created above (x value, y value, title, y label, text coordinates)\n",
    "# text coordinates is where placing equation - change range if not showing\n",
    "plot_linear_regression(x_values, y_values,\n",
    "                       'Linear Regression on the Northern Hemisphere \\n for % Cloudiness', \n",
    "                       '% Cloudiness',(0,10))"
   ]
  },
  {
   "cell_type": "code",
   "execution_count": null,
   "id": "744adefd",
   "metadata": {
    "scrolled": true
   },
   "outputs": [],
   "source": [
    "# SOUTH Lat and Cloudiness\n",
    "\n",
    "# Linear regression on the Southern Hemisphere\n",
    "x_values = southern_hemi_df[\"Lat\"]\n",
    "y_values = southern_hemi_df[\"Cloudiness\"]\n",
    "# Call the function.\n",
    "plot_linear_regression(x_values, y_values,\n",
    "                       'Linear Regression on the Southern Hemisphere \\n for % Cloudiness', \n",
    "                       '% Cloudiness',(-50,60))"
   ]
  },
  {
   "cell_type": "code",
   "execution_count": null,
   "id": "f242a98d",
   "metadata": {},
   "outputs": [],
   "source": [
    "# FINDING a little different then guide - south pretty steep"
   ]
  },
  {
   "cell_type": "code",
   "execution_count": null,
   "id": "f8313435",
   "metadata": {},
   "outputs": [],
   "source": [
    "# 6.4.5 Correlation between lat and wind Speed"
   ]
  },
  {
   "cell_type": "code",
   "execution_count": null,
   "id": "96ae7558",
   "metadata": {},
   "outputs": [],
   "source": [
    "# NORTH lat and Wind Speed\n",
    "\n",
    "# Linear regression on the Northern Hemisphere\n",
    "x_values = northern_hemi_df[\"Lat\"]\n",
    "y_values = northern_hemi_df[\"Wind Speed\"]\n",
    "\n",
    "# Call the function. created above (x value, y value, title, y label, text coordinates)\n",
    "# text coordinates is where placing equation - change range if not showing\n",
    "plot_linear_regression(x_values, y_values,\n",
    "                       'Linear Regression on the Northern Hemisphere \\n for Wind Speed', \n",
    "                       'Wind Speed',(40,25))"
   ]
  },
  {
   "cell_type": "code",
   "execution_count": null,
   "id": "40e62ee5",
   "metadata": {},
   "outputs": [],
   "source": [
    "# SOUTH Lat and Wind Speed\n",
    "\n",
    "# Linear regression on the Southern Hemisphere\n",
    "x_values = southern_hemi_df[\"Lat\"]\n",
    "y_values = southern_hemi_df[\"Wind Speed\"]\n",
    "# Call the function.\n",
    "plot_linear_regression(x_values, y_values,\n",
    "                       'Linear Regression on the Southern Hemisphere \\n for Wind Speed', \n",
    "                       'Wind Speed',(-50,20))"
   ]
  },
  {
   "cell_type": "code",
   "execution_count": null,
   "id": "579f3d50",
   "metadata": {},
   "outputs": [],
   "source": [
    "# FINDING correlation between lat and wind pseed very low\n",
    "# r values less tha -0.07 for noth and -0.3 for south\n",
    "# means wind speed is unpredictable due to changing weather patterns"
   ]
  },
  {
   "cell_type": "code",
   "execution_count": null,
   "id": "17bd2bba",
   "metadata": {},
   "outputs": [],
   "source": []
  },
  {
   "cell_type": "code",
   "execution_count": null,
   "id": "a9997036",
   "metadata": {},
   "outputs": [],
   "source": []
  },
  {
   "cell_type": "code",
   "execution_count": null,
   "id": "268df945",
   "metadata": {},
   "outputs": [],
   "source": []
  },
  {
   "cell_type": "code",
   "execution_count": null,
   "id": "96b552dd",
   "metadata": {},
   "outputs": [],
   "source": []
  },
  {
   "cell_type": "code",
   "execution_count": null,
   "id": "17ac8129",
   "metadata": {},
   "outputs": [],
   "source": []
  },
  {
   "cell_type": "code",
   "execution_count": null,
   "id": "b0259660",
   "metadata": {},
   "outputs": [],
   "source": []
  }
 ],
 "metadata": {
  "kernelspec": {
   "display_name": "PythonData",
   "language": "python",
   "name": "pythondata"
  },
  "language_info": {
   "codemirror_mode": {
    "name": "ipython",
    "version": 3
   },
   "file_extension": ".py",
   "mimetype": "text/x-python",
   "name": "python",
   "nbconvert_exporter": "python",
   "pygments_lexer": "ipython3",
   "version": "3.7.10"
  }
 },
 "nbformat": 4,
 "nbformat_minor": 5
}
