{
 "cells": [
  {
   "cell_type": "markdown",
   "id": "15e32d6d",
   "metadata": {},
   "source": [
    "# Module 6 Challenge\n",
    "\n",
    "# 3. Create a new set of 2,000 random latitudes and longitudes."
   ]
  },
  {
   "cell_type": "code",
   "execution_count": null,
   "id": "c89f875b",
   "metadata": {},
   "outputs": [],
   "source": [
    "# Import the dependencies.\n",
    "import pandas as pd\n",
    "import matplotlib.pyplot as plt\n",
    "import numpy as np"
   ]
  },
  {
   "cell_type": "code",
   "execution_count": null,
   "id": "046e96a0",
   "metadata": {},
   "outputs": [],
   "source": [
    "# Create a set of random latitude and longitude combinations.\n",
    "# lat run from 0 to 90 and lng from 0 to 180\n",
    "# size of output is 2000\n",
    "# zip lat and lngs together\n",
    "# zip object will be in memory creating a tuple with index\n",
    "\n",
    "lats = np.random.uniform(low=-90.000, high=90.000, size=2000)\n",
    "lngs = np.random.uniform(low=-180.000, high=180.000, size=2000)\n",
    "lat_lngs = zip(lats, lngs)\n",
    "lat_lngs"
   ]
  },
  {
   "cell_type": "code",
   "execution_count": null,
   "id": "6b495f55",
   "metadata": {},
   "outputs": [],
   "source": [
    "# unpack lat_lngs zip object into a list\n",
    "#  NOTE:  CAN ONLY UNZIP TUPLE ONCE BEFORE IT IS REMOVED FROM COMOPUTER MEMORY\n",
    "#       MAKE SURE UNZIP INTO LIST BEFORE MOVING ON\n",
    "\n",
    "\n",
    "# Add the latitudes and longitudes to a list.\n",
    "coordinates = list(lat_lngs)"
   ]
  },
  {
   "cell_type": "code",
   "execution_count": null,
   "id": "a3c04445",
   "metadata": {},
   "outputs": [],
   "source": [
    "len(coordinates)"
   ]
  },
  {
   "cell_type": "markdown",
   "id": "1ef33685",
   "metadata": {},
   "source": [
    "# 4. Get the nearest city using the citipy module."
   ]
  },
  {
   "cell_type": "code",
   "execution_count": null,
   "id": "fa594321",
   "metadata": {},
   "outputs": [],
   "source": [
    "# Use the citipy module to determine city based on latitude and longitude.\n",
    "from citipy import citipy"
   ]
  },
  {
   "cell_type": "code",
   "execution_count": null,
   "id": "72b91030",
   "metadata": {},
   "outputs": [],
   "source": [
    "# Create a list for holding the cities.\n",
    "cities = []\n",
    "# Identify the nearest city for each latitude and longitude combination.\n",
    "for coordinate in coordinates:\n",
    "    city = citipy.nearest_city(coordinate[0], coordinate[1]).city_name\n",
    "\n",
    "    # If the city is unique, then we will add it to the cities list.\n",
    "    # using not in to determine whether the found city is already in the\n",
    "    # cities list.  If not then append to add it (to avoid duplicates)\n",
    "    if city not in cities:\n",
    "        cities.append(city)\n",
    "# Print the city count to confirm sufficient count.\n",
    "len(cities)"
   ]
  },
  {
   "cell_type": "markdown",
   "id": "fab03b15",
   "metadata": {},
   "source": [
    "# 5. Perform an API call with the OpenWeatherMap."
   ]
  },
  {
   "cell_type": "code",
   "execution_count": null,
   "id": "a4d6d672",
   "metadata": {},
   "outputs": [],
   "source": [
    "# Import the requests library.\n",
    "import requests\n",
    "\n",
    "# Import the API key.\n",
    "from config import weather_api_key"
   ]
  },
  {
   "cell_type": "code",
   "execution_count": null,
   "id": "dba0186c",
   "metadata": {},
   "outputs": [],
   "source": [
    "# Starting URL for Weather Map API Call.\n",
    "# units= Imperial    standard, metric, imperial options\n",
    "url = \"http://api.openweathermap.org/data/2.5/weather?units=Imperial&APPID=\" + weather_api_key\n",
    "# print(url)"
   ]
  },
  {
   "cell_type": "code",
   "execution_count": null,
   "id": "816c465f",
   "metadata": {},
   "outputs": [],
   "source": [
    "####### only added to find json structure\n",
    "\n",
    "######## Test the json ouput for the city of Axim to get json\n",
    "# Create an endpoint URL for a city.\n",
    "#city_url = url + \"&q=\" + \"Axim\"\n",
    "#city_weather = requests.get(city_url)\n",
    "#print(city_url)  ####### can print this url, click on it and review in Chrome to also see the json format"
   ]
  },
  {
   "cell_type": "code",
   "execution_count": null,
   "id": "9b437569",
   "metadata": {},
   "outputs": [],
   "source": [
    "###### only added to find json structure\n",
    "\n",
    "####### print the json so can see the structure - still need to find WEATHER DESCRIPTION\n",
    "#city_weather.json()"
   ]
  },
  {
   "cell_type": "markdown",
   "id": "ce2d43db",
   "metadata": {},
   "source": [
    "# 6. Retrieve the following information from the API call:\n",
    "        Latitude and Longitude\n",
    "        Maximum temperature\n",
    "        Percent Humidity\n",
    "        Percent cloudiness\n",
    "        Wind Speed\n",
    "        Weather Description (clouds, fog, light rain, clear sky)"
   ]
  },
  {
   "cell_type": "code",
   "execution_count": null,
   "id": "e3bfbd05",
   "metadata": {},
   "outputs": [],
   "source": [
    "# Import the datetime module from the datetime library.\n",
    "from datetime import datetime"
   ]
  },
  {
   "cell_type": "code",
   "execution_count": null,
   "id": "7c279700",
   "metadata": {},
   "outputs": [],
   "source": [
    "# Create an empty list to hold the weather data.\n",
    "city_data = []\n",
    "# Print the beginning of the logging.\n",
    "print(\"Beginning Data Retrieval     \")\n",
    "print(\"-----------------------------\")\n",
    "\n",
    "# Create counters. Initialized at 1 becasue want the first iteration of \n",
    "# logging for each recorded response and set to start at 1\n",
    "record_count = 1\n",
    "set_count = 1\n",
    "\n",
    "# Loop through all the cities in the list. \n",
    "# using enumerate() get index of the city for logging purposes\n",
    "# city for creating an endpoint URL\n",
    "for i, city in enumerate(cities):\n",
    "\n",
    "    # Group cities in sets of 50 for logging purposes.\n",
    "    # if remainder of index divided by 50 is equal to 0\n",
    "    # and if index greater than or equal to 50\n",
    "    # if true then set count and record count increment by 1\n",
    "    \n",
    "    if (i % 50 == 0 and i >= 50):\n",
    "        set_count += 1\n",
    "        record_count = 1\n",
    "    # Create endpoint URL with each city.\n",
    "    # removing blank spaces in the city name and concat city name\n",
    "    \n",
    "    city_url = url + \"&q=\" + city.replace(\" \",\"+\")\n",
    "  \n",
    "    # Log the URL, record, and set numbers and the city.\n",
    "    print(f\"Processing Record {record_count} of Set {set_count} | {city}\")\n",
    "    # Add 1 to the record count. before the next city is processed\n",
    "    record_count += 1\n",
    "    \n",
    "    # ADD TRY-EXCEPT TO THE RUN\n",
    "    \n",
    "    # Run an API request for each of the cities.\n",
    "    try:\n",
    "        # Parse the JSON and retrieve data.\n",
    "        city_weather = requests.get(city_url).json()\n",
    "        # Parse out the needed data.\n",
    "        city_lat = city_weather[\"coord\"][\"lat\"]\n",
    "        city_lng = city_weather[\"coord\"][\"lon\"]\n",
    "        city_max_temp = city_weather[\"main\"][\"temp_max\"]\n",
    "        city_humidity = city_weather[\"main\"][\"humidity\"]\n",
    "        city_clouds = city_weather[\"clouds\"][\"all\"]\n",
    "        city_wind = city_weather[\"wind\"][\"speed\"]\n",
    "        city_country = city_weather[\"sys\"][\"country\"]\n",
    "        city_wx_desc = city_weather[\"weather\"][0][\"description\"]\n",
    "        # Convert the date to ISO standard.\n",
    "        city_date = datetime.utcfromtimestamp(city_weather[\"dt\"]).strftime('%Y-%m-%d %H:%M:%S')\n",
    "        # Append the city information into city_data list.\n",
    "        city_data.append({\"City\": city.title(),\n",
    "                          \"Lat\": city_lat,\n",
    "                          \"Lng\": city_lng,\n",
    "                          \"Max Temp\": city_max_temp,\n",
    "                          \"Humidity\": city_humidity,\n",
    "                          \"Cloudiness\": city_clouds,\n",
    "                          \"Wind Speed\": city_wind,\n",
    "                          \"Country\": city_country,\n",
    "                          \"Date\": city_date,\n",
    "                          \"Current Description\": city_wx_desc})\n",
    "\n",
    "# If an error is experienced, skip the city.\n",
    "# pass statement general purpose to handle all errors encountered and allow\n",
    "# program to continue\n",
    "    except:\n",
    "        print(\"City not found. Skipping...\")\n",
    "        pass\n",
    "\n",
    "# Indicate that Data Loading is complete.\n",
    "print(\"-----------------------------\")\n",
    "print(\"Data Retrieval Complete      \")\n",
    "print(\"-----------------------------\")\n",
    "    \n",
    "    "
   ]
  },
  {
   "cell_type": "code",
   "execution_count": null,
   "id": "ff9fb8e0",
   "metadata": {},
   "outputs": [],
   "source": [
    "# how many rows of data did we just spit out\n",
    "\n",
    "len(city_data)"
   ]
  },
  {
   "cell_type": "markdown",
   "id": "3e083244",
   "metadata": {},
   "source": [
    "# 7. Add the data to a new DataFrame."
   ]
  },
  {
   "cell_type": "code",
   "execution_count": null,
   "id": "8048a6b1",
   "metadata": {},
   "outputs": [],
   "source": [
    "# Convert the array of dictionaries to a Pandas DataFrame.\n",
    "# city_data was just created above\n",
    "city_data_df = pd.DataFrame(city_data)\n",
    "city_data_df.head(10)"
   ]
  },
  {
   "cell_type": "code",
   "execution_count": null,
   "id": "ba5aa73c",
   "metadata": {},
   "outputs": [],
   "source": [
    "# put columns in the right order\n",
    "\n",
    "new_column_order = [\"City\", \"Country\", \"Lat\", \"Lng\", \"Max Temp\",\n",
    "                    \"Humidity\", \"Cloudiness\", \"Wind Speed\", \"Current Description\"]\n",
    "city_data_df = city_data_df[new_column_order]\n",
    "city_data_df.head(10)"
   ]
  },
  {
   "cell_type": "markdown",
   "id": "48829162",
   "metadata": {},
   "source": [
    "# 8. Export the DataFrame as a CSV file, and save it as WeatherPy_Database.csv in the Weather_Database folder."
   ]
  },
  {
   "cell_type": "code",
   "execution_count": null,
   "id": "5ad782ee",
   "metadata": {},
   "outputs": [],
   "source": [
    "# Create the output file (CSV).\n",
    "output_data_file = \"weather_database/WeatherPy_Database.csv\"\n",
    "\n",
    "# Export the WeatherPy_Database data into a CSV.\n",
    "# with index label (or column A) header of City_ID\n",
    "city_data_df.to_csv(output_data_file, index_label=\"City_ID\")"
   ]
  },
  {
   "cell_type": "code",
   "execution_count": null,
   "id": "397979d9",
   "metadata": {},
   "outputs": [],
   "source": []
  },
  {
   "cell_type": "code",
   "execution_count": null,
   "id": "b35ebf34",
   "metadata": {},
   "outputs": [],
   "source": []
  },
  {
   "cell_type": "code",
   "execution_count": null,
   "id": "1d317ca4",
   "metadata": {},
   "outputs": [],
   "source": []
  },
  {
   "cell_type": "code",
   "execution_count": null,
   "id": "3209f769",
   "metadata": {},
   "outputs": [],
   "source": []
  },
  {
   "cell_type": "code",
   "execution_count": null,
   "id": "39d80326",
   "metadata": {},
   "outputs": [],
   "source": []
  },
  {
   "cell_type": "code",
   "execution_count": null,
   "id": "de848879",
   "metadata": {},
   "outputs": [],
   "source": []
  }
 ],
 "metadata": {
  "kernelspec": {
   "display_name": "PythonData",
   "language": "python",
   "name": "pythondata"
  },
  "language_info": {
   "codemirror_mode": {
    "name": "ipython",
    "version": 3
   },
   "file_extension": ".py",
   "mimetype": "text/x-python",
   "name": "python",
   "nbconvert_exporter": "python",
   "pygments_lexer": "ipython3",
   "version": "3.7.10"
  }
 },
 "nbformat": 4,
 "nbformat_minor": 5
}
