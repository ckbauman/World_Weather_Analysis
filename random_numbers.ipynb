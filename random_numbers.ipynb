{
 "cells": [
  {
   "cell_type": "code",
   "execution_count": 1,
   "id": "a6f2ac88",
   "metadata": {},
   "outputs": [],
   "source": [
    "# 6.1.4\n",
    "\n",
    "# Import the random module.\n",
    "import random"
   ]
  },
  {
   "cell_type": "code",
   "execution_count": 6,
   "id": "754521b5",
   "metadata": {},
   "outputs": [
    {
     "data": {
      "text/plain": [
       "-80"
      ]
     },
     "execution_count": 6,
     "metadata": {},
     "output_type": "execute_result"
    }
   ],
   "source": [
    "# integer with a range\n",
    "random.randint(-90, 90)"
   ]
  },
  {
   "cell_type": "code",
   "execution_count": 7,
   "id": "56acc00e",
   "metadata": {},
   "outputs": [
    {
     "data": {
      "text/plain": [
       "0.8799371394556674"
      ]
     },
     "execution_count": 7,
     "metadata": {},
     "output_type": "execute_result"
    }
   ],
   "source": [
    "# single floating pint decimal between 0 and 1.0\n",
    "random.random()"
   ]
  },
  {
   "cell_type": "code",
   "execution_count": 9,
   "id": "21aa6c1e",
   "metadata": {},
   "outputs": [],
   "source": [
    "# LONG WAY TO DO THIS - best to use one of the random functions below\n",
    "\n",
    "# variable x to 1\n",
    "# initialize empy list of latitudes\n",
    "# create while loop where generate a random latitude and add it to the list\n",
    "# after it's added to list , then add one to the variable x\n",
    "# the while loop will continue to run as long as x is less than 11\n",
    "\n",
    "\n",
    "x = 1\n",
    "latitudes = []\n",
    "while x < 11:\n",
    "    random_lat = random.randint(-90, 89) + random.random()\n",
    "    latitudes.append(random_lat)\n",
    "    x += 1"
   ]
  },
  {
   "cell_type": "code",
   "execution_count": 10,
   "id": "9defb09e",
   "metadata": {},
   "outputs": [
    {
     "data": {
      "text/plain": [
       "[37.05572505669871,\n",
       " -16.602229620469625,\n",
       " -6.678835834089217,\n",
       " -30.821773434222635,\n",
       " 50.71601536757783,\n",
       " -40.00172047455987,\n",
       " 54.53015381967214,\n",
       " 87.0505838012856,\n",
       " -22.57779169627245,\n",
       " 46.11832779729429]"
      ]
     },
     "execution_count": 10,
     "metadata": {},
     "output_type": "execute_result"
    }
   ],
   "source": [
    "latitudes"
   ]
  },
  {
   "cell_type": "code",
   "execution_count": 11,
   "id": "8915e3ad",
   "metadata": {},
   "outputs": [
    {
     "data": {
      "text/plain": [
       "-74"
      ]
     },
     "execution_count": 11,
     "metadata": {},
     "output_type": "execute_result"
    }
   ],
   "source": [
    "# randrange with step is difference between each number in the sequence\n",
    "random.randrange(-90, 90, step=1)"
   ]
  },
  {
   "cell_type": "code",
   "execution_count": 13,
   "id": "bf816f42",
   "metadata": {},
   "outputs": [
    {
     "data": {
      "text/plain": [
       "78"
      ]
     },
     "execution_count": 13,
     "metadata": {},
     "output_type": "execute_result"
    }
   ],
   "source": [
    "random.randrange(-90, 90, step=3)"
   ]
  },
  {
   "cell_type": "code",
   "execution_count": 14,
   "id": "6c2a9bdf",
   "metadata": {},
   "outputs": [],
   "source": [
    "# THE NUMPY ADN RANDOM MODULES\n",
    "\n",
    "# Import the NumPy module.\n",
    "import numpy as np"
   ]
  },
  {
   "cell_type": "code",
   "execution_count": 15,
   "id": "50933547",
   "metadata": {},
   "outputs": [
    {
     "data": {
      "text/plain": [
       "-21.52438827638673"
      ]
     },
     "execution_count": 15,
     "metadata": {},
     "output_type": "execute_result"
    }
   ],
   "source": [
    "# using floating point vallues with decimals\n",
    "\n",
    "np.random.uniform(-90.000, 90.000)"
   ]
  },
  {
   "cell_type": "code",
   "execution_count": 16,
   "id": "4ba62676",
   "metadata": {},
   "outputs": [
    {
     "data": {
      "text/plain": [
       "51.576277372305896"
      ]
     },
     "execution_count": 16,
     "metadata": {},
     "output_type": "execute_result"
    }
   ],
   "source": [
    "# using np version to do same as above\n",
    "\n",
    "np.random.uniform(low=-90, high=90)"
   ]
  },
  {
   "cell_type": "code",
   "execution_count": 17,
   "id": "74b36b3b",
   "metadata": {},
   "outputs": [
    {
     "data": {
      "text/plain": [
       "array([ 36.09510793,  56.86548291,  57.43909632, -73.18730295,\n",
       "        40.910984  , -35.42071008,  38.59100747,  55.03732324,\n",
       "        56.5830852 ,  49.71808566, -87.4495569 ,  81.04322981,\n",
       "        -9.91425011,  -9.16779755, -57.87698211, -77.52017206,\n",
       "         7.98479169,  61.83044855,  89.66977803,  74.20648009,\n",
       "        87.24293554, -70.486653  ,  42.06034233,  69.37477188,\n",
       "       -23.23839069,  41.66781821,  74.74065839,  20.34866879,\n",
       "       -20.46652453, -37.14517688,  60.4626766 , -58.6112473 ,\n",
       "       -72.02592484, -82.10712704,   5.19477857, -30.72989233,\n",
       "        77.32591335, -34.31028975, -35.85315148, -80.68306595,\n",
       "         9.2567021 ,  -9.38383093, -14.26931627, -89.01348431,\n",
       "       -64.97336836, -65.10456075, -39.46444486,  -6.72834234,\n",
       "        48.66606658,  60.96134959])"
      ]
     },
     "execution_count": 17,
     "metadata": {},
     "output_type": "execute_result"
    }
   ],
   "source": [
    "# run for more then 1 using the size of 50\n",
    "\n",
    "np.random.uniform(-90.000, 90.000, size=50)"
   ]
  },
  {
   "cell_type": "code",
   "execution_count": 18,
   "id": "3f6ef5c2",
   "metadata": {},
   "outputs": [],
   "source": [
    "# test how long to run using timeit module\n",
    "\n",
    "# Import timeit.\n",
    "import timeit%timeit np.random.uniform(-90.000, 90.000, size=1500)"
   ]
  },
  {
   "cell_type": "code",
   "execution_count": 19,
   "id": "fcb55f93",
   "metadata": {},
   "outputs": [
    {
     "name": "stdout",
     "output_type": "stream",
     "text": [
      "12 µs ± 343 ns per loop (mean ± std. dev. of 7 runs, 100000 loops each)\n"
     ]
    }
   ],
   "source": [
    "# amount of time to run this code in results - this is faster then while loop\n",
    "\n",
    "\n",
    "%timeit np.random.uniform(-90.000, 90.000, size=1500)"
   ]
  },
  {
   "cell_type": "code",
   "execution_count": 20,
   "id": "380decea",
   "metadata": {},
   "outputs": [
    {
     "name": "stdout",
     "output_type": "stream",
     "text": [
      "1.49 ms ± 40 µs per loop (mean ± std. dev. of 7 runs, 1000 loops each)\n"
     ]
    }
   ],
   "source": [
    "# now test a while loop to see how long to run\n",
    "\n",
    "def latitudes(size):\n",
    "    latitudes = []\n",
    "    x = 0\n",
    "    while x < (size):\n",
    "        random_lat = random.randint(-90, 90) + random.random()\n",
    "        latitudes.append(random_lat)\n",
    "        x += 1\n",
    "    return latitudes\n",
    "# Call the function with 1500.\n",
    "%timeit latitudes(1500)"
   ]
  },
  {
   "cell_type": "code",
   "execution_count": 21,
   "id": "662eaeed",
   "metadata": {},
   "outputs": [],
   "source": [
    "# SKILL DRILL  refactor the code for the while loop with the %timeit magic command\n",
    "# and write a for looop that will generate the 1500 latitudes"
   ]
  },
  {
   "cell_type": "code",
   "execution_count": 22,
   "id": "e7714cda",
   "metadata": {},
   "outputs": [],
   "source": []
  },
  {
   "cell_type": "code",
   "execution_count": null,
   "id": "b029ac4e",
   "metadata": {},
   "outputs": [],
   "source": []
  },
  {
   "cell_type": "code",
   "execution_count": null,
   "id": "de6360fa",
   "metadata": {},
   "outputs": [],
   "source": []
  },
  {
   "cell_type": "code",
   "execution_count": null,
   "id": "7cec8080",
   "metadata": {},
   "outputs": [],
   "source": []
  }
 ],
 "metadata": {
  "kernelspec": {
   "display_name": "PythonData",
   "language": "python",
   "name": "pythondata"
  },
  "language_info": {
   "codemirror_mode": {
    "name": "ipython",
    "version": 3
   },
   "file_extension": ".py",
   "mimetype": "text/x-python",
   "name": "python",
   "nbconvert_exporter": "python",
   "pygments_lexer": "ipython3",
   "version": "3.7.10"
  }
 },
 "nbformat": 4,
 "nbformat_minor": 5
}
