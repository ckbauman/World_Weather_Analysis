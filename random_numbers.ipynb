{
 "cells": [
  {
   "cell_type": "code",
   "execution_count": null,
   "id": "a6f2ac88",
   "metadata": {},
   "outputs": [],
   "source": [
    "# 6.1.4\n",
    "\n",
    "# Import the random module.\n",
    "import random"
   ]
  },
  {
   "cell_type": "code",
   "execution_count": null,
   "id": "754521b5",
   "metadata": {},
   "outputs": [],
   "source": [
    "# integer with a range\n",
    "random.randint(-90, 90)"
   ]
  },
  {
   "cell_type": "code",
   "execution_count": null,
   "id": "56acc00e",
   "metadata": {},
   "outputs": [],
   "source": [
    "# single floating pint decimal between 0 and 1.0\n",
    "random.random()"
   ]
  },
  {
   "cell_type": "code",
   "execution_count": null,
   "id": "21aa6c1e",
   "metadata": {},
   "outputs": [],
   "source": [
    "# LONG WAY TO DO THIS - best to use one of the random functions below\n",
    "\n",
    "# variable x to 1\n",
    "# initialize empy list of latitudes\n",
    "# create while loop where generate a random latitude and add it to the list\n",
    "# after it's added to list , then add one to the variable x\n",
    "# the while loop will continue to run as long as x is less than 11\n",
    "\n",
    "\n",
    "x = 1\n",
    "latitudes = []\n",
    "while x < 11:\n",
    "    random_lat = random.randint(-90, 89) + random.random()\n",
    "    latitudes.append(random_lat)\n",
    "    x += 1"
   ]
  },
  {
   "cell_type": "code",
   "execution_count": null,
   "id": "9defb09e",
   "metadata": {},
   "outputs": [],
   "source": [
    "latitudes"
   ]
  },
  {
   "cell_type": "code",
   "execution_count": null,
   "id": "8915e3ad",
   "metadata": {},
   "outputs": [],
   "source": [
    "# randrange with step is difference between each number in the sequence\n",
    "random.randrange(-90, 90, step=1)"
   ]
  },
  {
   "cell_type": "code",
   "execution_count": null,
   "id": "bf816f42",
   "metadata": {},
   "outputs": [],
   "source": [
    "random.randrange(-90, 90, step=3)"
   ]
  },
  {
   "cell_type": "code",
   "execution_count": null,
   "id": "6c2a9bdf",
   "metadata": {},
   "outputs": [],
   "source": [
    "# THE NUMPY ADN RANDOM MODULES\n",
    "\n",
    "# Import the NumPy module.\n",
    "import numpy as np"
   ]
  },
  {
   "cell_type": "code",
   "execution_count": null,
   "id": "50933547",
   "metadata": {},
   "outputs": [],
   "source": [
    "# using floating point vallues with decimals\n",
    "\n",
    "np.random.uniform(-90.000, 90.000)"
   ]
  },
  {
   "cell_type": "code",
   "execution_count": null,
   "id": "4ba62676",
   "metadata": {},
   "outputs": [],
   "source": [
    "# using np version to do same as above\n",
    "\n",
    "np.random.uniform(low=-90, high=90)"
   ]
  },
  {
   "cell_type": "code",
   "execution_count": null,
   "id": "74b36b3b",
   "metadata": {},
   "outputs": [],
   "source": [
    "# run for more then 1 using the size of 50\n",
    "\n",
    "np.random.uniform(-90.000, 90.000, size=50)"
   ]
  },
  {
   "cell_type": "code",
   "execution_count": null,
   "id": "3f6ef5c2",
   "metadata": {},
   "outputs": [],
   "source": [
    "# test how long to run using timeit module\n",
    "\n",
    "# Import timeit.\n",
    "import timeit%timeit np.random.uniform(-90.000, 90.000, size=1500)"
   ]
  },
  {
   "cell_type": "code",
   "execution_count": null,
   "id": "fcb55f93",
   "metadata": {},
   "outputs": [],
   "source": [
    "# amount of time to run this code in results - this is faster then while loop\n",
    "\n",
    "\n",
    "%timeit np.random.uniform(-90.000, 90.000, size=1500)"
   ]
  },
  {
   "cell_type": "code",
   "execution_count": null,
   "id": "380decea",
   "metadata": {},
   "outputs": [],
   "source": [
    "# now test a while loop to see how long to run\n",
    "\n",
    "def latitudes(size):\n",
    "    latitudes = []\n",
    "    x = 0\n",
    "    while x < (size):\n",
    "        random_lat = random.randint(-90, 90) + random.random()\n",
    "        latitudes.append(random_lat)\n",
    "        x += 1\n",
    "    return latitudes\n",
    "# Call the function with 1500.\n",
    "%timeit latitudes(1500)"
   ]
  },
  {
   "cell_type": "code",
   "execution_count": null,
   "id": "662eaeed",
   "metadata": {},
   "outputs": [],
   "source": [
    "# SKILL DRILL  refactor the code for the while loop with the %timeit magic command\n",
    "# and write a for looop that will generate the 1500 latitudes"
   ]
  },
  {
   "cell_type": "code",
   "execution_count": null,
   "id": "e7714cda",
   "metadata": {},
   "outputs": [],
   "source": [
    "# 6.4.1 linear Regression "
   ]
  },
  {
   "cell_type": "code",
   "execution_count": null,
   "id": "b029ac4e",
   "metadata": {},
   "outputs": [],
   "source": [
    "# Import linear regression from the SciPy stats module.\n",
    "from scipy.stats import linregress"
   ]
  },
  {
   "cell_type": "code",
   "execution_count": null,
   "id": "de6360fa",
   "metadata": {},
   "outputs": [],
   "source": [
    "# Create an equal number of latitudes and temperatures.\n",
    "# lats for nothern hemisphere so only positive\n",
    "lats = [42.5, 43.9, 8.1, 36.8, 79.9, 69.1, 25.7, 15.3, 12.7, 64.5]\n",
    "temps = [80.5, 75.3, 90.9, 90.0, 40.4, 62.3, 85.4, 79.6, 72.5, 72.0]"
   ]
  },
  {
   "cell_type": "code",
   "execution_count": null,
   "id": "8c63af46",
   "metadata": {},
   "outputs": [],
   "source": [
    "# Perform linear regression.\n",
    "# using linregress function\n",
    "# linregress uses 2 arguments of lats (x) and temps (y)\n",
    "\n",
    "(slope, intercept, r_value, p_value, std_err) = linregress(lats, temps)\n",
    "# Get the equation of the line. of y = mx + b\n",
    "line_eq = \"y = \" + str(round(slope,2)) + \"x + \" + str(round(intercept,2))\n",
    "print(line_eq)\n",
    "print(f\"The p-value is: {p_value:.3f}\")"
   ]
  },
  {
   "cell_type": "code",
   "execution_count": null,
   "id": "d2e92fae",
   "metadata": {},
   "outputs": [],
   "source": [
    "# Calculate the regression line \"y values\" from the slope and intercept.\n",
    "\n",
    "# calculate ideal temps (y values) using slope and intercept from the equation\n",
    "# of regression line\n",
    "# multiply each latitude by the slop and add y intercept\n",
    "\n",
    "regress_values = [(lat * slope + intercept) for lat in lats]"
   ]
  },
  {
   "cell_type": "code",
   "execution_count": null,
   "id": "6515f7a6",
   "metadata": {},
   "outputs": [],
   "source": [
    "# Now plot the data above\n",
    "\n",
    "# Import Matplotlib.\n",
    "import matplotlib.pyplot as plt\n",
    "# Create a scatter plot of the x and y values.\n",
    "plt.scatter(lats,temps)\n",
    "# Plot the regression line with the x-values and the y coordinates based on the intercept and slope.\n",
    "plt.plot(lats,regress_values,\"r\")\n",
    "# Annotate the text for the line equation and add its coordinates.\n",
    "# where x axis is 10 and y axis is 40\n",
    "plt.annotate(line_eq, (10,40), fontsize=15, color=\"red\")\n",
    "plt.xlabel('Latitude')\n",
    "plt.ylabel('Temp')\n",
    "plt.show()"
   ]
  },
  {
   "cell_type": "code",
   "execution_count": null,
   "id": "e12fbe4c",
   "metadata": {},
   "outputs": [],
   "source": []
  },
  {
   "cell_type": "code",
   "execution_count": null,
   "id": "715025d4",
   "metadata": {},
   "outputs": [],
   "source": []
  },
  {
   "cell_type": "code",
   "execution_count": null,
   "id": "e19747c1",
   "metadata": {},
   "outputs": [],
   "source": []
  },
  {
   "cell_type": "code",
   "execution_count": null,
   "id": "7cec8080",
   "metadata": {},
   "outputs": [],
   "source": []
  }
 ],
 "metadata": {
  "kernelspec": {
   "display_name": "PythonData",
   "language": "python",
   "name": "pythondata"
  },
  "language_info": {
   "codemirror_mode": {
    "name": "ipython",
    "version": 3
   },
   "file_extension": ".py",
   "mimetype": "text/x-python",
   "name": "python",
   "nbconvert_exporter": "python",
   "pygments_lexer": "ipython3",
   "version": "3.7.10"
  }
 },
 "nbformat": 4,
 "nbformat_minor": 5
}
