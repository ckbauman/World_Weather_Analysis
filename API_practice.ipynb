{
 "cells": [
  {
   "cell_type": "code",
   "execution_count": 1,
   "id": "e9e98705",
   "metadata": {},
   "outputs": [],
   "source": [
    "# 6.1.4 Cont...\n",
    "# practice zipping latitude and longitude and unpacking the zipped tuple\n",
    "\n",
    "# Create a practice set of random latitude and longitude combinations.\n",
    "x = [25.12903645, 25.92017388, 26.62509167, -59.98969384, 37.30571269]\n",
    "y = [-67.59741259, 11.09532135, 74.84233102, -76.89176677, -61.13376282]\n",
    "coordinates = zip(x, y)"
   ]
  },
  {
   "cell_type": "code",
   "execution_count": 2,
   "id": "49b3df1a",
   "metadata": {
    "scrolled": true
   },
   "outputs": [
    {
     "name": "stdout",
     "output_type": "stream",
     "text": [
      "25.12903645 -67.59741259\n",
      "25.92017388 11.09532135\n",
      "26.62509167 74.84233102\n",
      "-59.98969384 -76.89176677\n",
      "37.30571269 -61.13376282\n"
     ]
    }
   ],
   "source": [
    "# Use the tuple() function to display the latitude and longitude combinations.\n",
    "# produces ordered pairs of x and y coorinates\n",
    "\n",
    "for coordinate in coordinates:\n",
    "    print(coordinate[0], coordinate[1])"
   ]
  },
  {
   "cell_type": "code",
   "execution_count": 3,
   "id": "6a96ba7f",
   "metadata": {},
   "outputs": [],
   "source": [
    "# 6.1.5  practice using citipy"
   ]
  },
  {
   "cell_type": "code",
   "execution_count": 4,
   "id": "dd152c39",
   "metadata": {},
   "outputs": [],
   "source": [
    "# Use the citipy module to determine city based on latitude and longitude.\n",
    "from citipy import citipy"
   ]
  },
  {
   "cell_type": "code",
   "execution_count": 5,
   "id": "a5a9cb9d",
   "metadata": {},
   "outputs": [],
   "source": [
    "# Use the tuple() function to display the latitude and longitude combinations.\n",
    "######  WHY NO OUTPUT    I'M STUCK    \n",
    "\n",
    "for coordinate in coordinates:\n",
    "    \n",
    "    print(citipy.nearest_city(coordinate[0], coordinate[1]).city_name,\n",
    "          citipy.nearest_city(coordinate[0], coordinate[1]).country_code)\n"
   ]
  },
  {
   "cell_type": "code",
   "execution_count": 6,
   "id": "c0741085",
   "metadata": {},
   "outputs": [
    {
     "name": "stdout",
     "output_type": "stream",
     "text": [
      "duluth\n"
     ]
    }
   ],
   "source": [
    "print(citipy.nearest_city(46.78224, -92.12872).city_name)"
   ]
  },
  {
   "cell_type": "code",
   "execution_count": 7,
   "id": "037e7139",
   "metadata": {},
   "outputs": [
    {
     "name": "stdout",
     "output_type": "stream",
     "text": [
      "saint george\n"
     ]
    }
   ],
   "source": [
    "print(citipy.nearest_city(37.30571269, -61.13376282).city_name)"
   ]
  },
  {
   "cell_type": "code",
   "execution_count": 8,
   "id": "dd95f2ef",
   "metadata": {},
   "outputs": [
    {
     "name": "stdout",
     "output_type": "stream",
     "text": [
      "cl\n"
     ]
    }
   ],
   "source": [
    "print(citipy.nearest_city(-59.98969384, -76.89176677).country_code)"
   ]
  },
  {
   "cell_type": "code",
   "execution_count": 9,
   "id": "89a82350",
   "metadata": {},
   "outputs": [
    {
     "name": "stdout",
     "output_type": "stream",
     "text": [
      "in\n"
     ]
    }
   ],
   "source": [
    "print(citipy.nearest_city(26.62509167, 74.84233102).country_code)"
   ]
  },
  {
   "cell_type": "code",
   "execution_count": 10,
   "id": "c94d8e18",
   "metadata": {},
   "outputs": [
    {
     "name": "stdout",
     "output_type": "stream",
     "text": [
      "ly\n"
     ]
    }
   ],
   "source": [
    "print(citipy.nearest_city(25.92017388, 11.09532135).country_code)"
   ]
  },
  {
   "cell_type": "code",
   "execution_count": 11,
   "id": "3214ae75",
   "metadata": {},
   "outputs": [
    {
     "name": "stdout",
     "output_type": "stream",
     "text": [
      "tc\n"
     ]
    }
   ],
   "source": [
    "print(citipy.nearest_city(25.12903645, -67.59741259).country_code)"
   ]
  },
  {
   "cell_type": "code",
   "execution_count": 12,
   "id": "6eb1d9ba",
   "metadata": {},
   "outputs": [],
   "source": [
    "# 6.2.3 Make an API Call"
   ]
  },
  {
   "cell_type": "code",
   "execution_count": 13,
   "id": "a7a85a51",
   "metadata": {},
   "outputs": [],
   "source": [
    "\n",
    "# Import the requests library.\n",
    "import requests\n",
    "\n",
    "# Import the API key.\n",
    "from config import weather_api_key"
   ]
  },
  {
   "cell_type": "code",
   "execution_count": 14,
   "id": "cd5e7b4f",
   "metadata": {},
   "outputs": [],
   "source": [
    "# Starting URL for Weather Map API Call.\n",
    "# units= Imperial    standard, metric, imperial options\n",
    "url = \"http://api.openweathermap.org/data/2.5/weather?units=Imperial&APPID=\" + weather_api_key\n",
    "# print(url)"
   ]
  },
  {
   "cell_type": "code",
   "execution_count": 15,
   "id": "81aef721",
   "metadata": {},
   "outputs": [],
   "source": [
    "# Create an endpoint URL for a city.\n",
    "# Boston specific\n",
    "# &q parameter ????\n",
    "\n",
    "city_url = url + \"&q=\" + \"Boston\"\n",
    "# print(city_url)\n"
   ]
  },
  {
   "cell_type": "code",
   "execution_count": 16,
   "id": "8bc0b4d3",
   "metadata": {},
   "outputs": [],
   "source": [
    "# 6.2.4  Make request for data to an API"
   ]
  },
  {
   "cell_type": "code",
   "execution_count": 17,
   "id": "dcedc548",
   "metadata": {},
   "outputs": [
    {
     "data": {
      "text/plain": [
       "<Response [200]>"
      ]
     },
     "execution_count": 17,
     "metadata": {},
     "output_type": "execute_result"
    }
   ],
   "source": [
    "# Make a 'Get' request for the city weather.\n",
    "city_weather = requests.get(city_url)\n",
    "city_weather"
   ]
  },
  {
   "cell_type": "code",
   "execution_count": 18,
   "id": "bfc4289f",
   "metadata": {},
   "outputs": [
    {
     "data": {
      "text/plain": [
       "<Response [404]>"
      ]
     },
     "execution_count": 18,
     "metadata": {},
     "output_type": "execute_result"
    }
   ],
   "source": [
    "# Create an endpoint URL for a city.\n",
    "# purposely misspell boston to see what happens\n",
    "city_url = url + \"&q=\" + \"Bston\"\n",
    "city_weather = requests.get(city_url)\n",
    "city_weather"
   ]
  },
  {
   "cell_type": "code",
   "execution_count": 19,
   "id": "98fb7ed2",
   "metadata": {},
   "outputs": [
    {
     "data": {
      "text/plain": [
       "<Response [200]>"
      ]
     },
     "execution_count": 19,
     "metadata": {},
     "output_type": "execute_result"
    }
   ],
   "source": [
    "# Create an endpoint URL for a city.\n",
    "# use correct spelling of boston\n",
    "city_url = url + \"&q=\" + \"Boston\"\n",
    "city_weather = requests.get(city_url)\n",
    "city_weather"
   ]
  },
  {
   "cell_type": "code",
   "execution_count": 20,
   "id": "75458b0f",
   "metadata": {},
   "outputs": [
    {
     "data": {
      "text/plain": [
       "'{\"coord\":{\"lon\":-71.0598,\"lat\":42.3584},\"weather\":[{\"id\":803,\"main\":\"Clouds\",\"description\":\"broken clouds\",\"icon\":\"04d\"}],\"base\":\"stations\",\"main\":{\"temp\":74.82,\"feels_like\":74.53,\"temp_min\":70.65,\"temp_max\":78.01,\"pressure\":1020,\"humidity\":54},\"visibility\":10000,\"wind\":{\"speed\":1.01,\"deg\":0,\"gust\":5.01},\"clouds\":{\"all\":75},\"dt\":1628003758,\"sys\":{\"type\":2,\"id\":2013408,\"country\":\"US\",\"sunrise\":1627983542,\"sunset\":1628035302},\"timezone\":-14400,\"id\":4930956,\"name\":\"Boston\",\"cod\":200}'"
      ]
     },
     "execution_count": 20,
     "metadata": {},
     "output_type": "execute_result"
    }
   ],
   "source": [
    "# get data format for boston output\n",
    "# options are text, JSON, XML, HTML\n",
    "\n",
    "# Get the text of the 'Get' request.\n",
    "city_weather.text\n",
    "\n",
    "# output is a dictionary of dictionaries and arrays, harder to read"
   ]
  },
  {
   "cell_type": "code",
   "execution_count": 21,
   "id": "38b23b48",
   "metadata": {},
   "outputs": [
    {
     "data": {
      "text/plain": [
       "{'coord': {'lon': -71.0598, 'lat': 42.3584},\n",
       " 'weather': [{'id': 803,\n",
       "   'main': 'Clouds',\n",
       "   'description': 'broken clouds',\n",
       "   'icon': '04d'}],\n",
       " 'base': 'stations',\n",
       " 'main': {'temp': 74.82,\n",
       "  'feels_like': 74.53,\n",
       "  'temp_min': 70.65,\n",
       "  'temp_max': 78.01,\n",
       "  'pressure': 1020,\n",
       "  'humidity': 54},\n",
       " 'visibility': 10000,\n",
       " 'wind': {'speed': 1.01, 'deg': 0, 'gust': 5.01},\n",
       " 'clouds': {'all': 75},\n",
       " 'dt': 1628003758,\n",
       " 'sys': {'type': 2,\n",
       "  'id': 2013408,\n",
       "  'country': 'US',\n",
       "  'sunrise': 1627983542,\n",
       "  'sunset': 1628035302},\n",
       " 'timezone': -14400,\n",
       " 'id': 4930956,\n",
       " 'name': 'Boston',\n",
       " 'cod': 200}"
      ]
     },
     "execution_count": 21,
     "metadata": {},
     "output_type": "execute_result"
    }
   ],
   "source": [
    "# try using JSON and see if easier to read\n",
    "\n",
    "# Get the JSON text of the 'Get' request.\n",
    "city_weather.json()\n",
    "\n",
    "# a lot easier to read"
   ]
  },
  {
   "cell_type": "code",
   "execution_count": 22,
   "id": "b28e7c89",
   "metadata": {},
   "outputs": [
    {
     "name": "stdout",
     "output_type": "stream",
     "text": [
      "City Weather found.\n"
     ]
    }
   ],
   "source": [
    "# make sure valid response of 200 before gathering data\n",
    "\n",
    "# Create an endpoint URL for a city.\n",
    "city_url = url + \"&q=\" + \"Boston\"\n",
    "city_weather = requests.get(city_url)\n",
    "if city_weather.status_code == 200:\n",
    "    print(f\"City Weather found.\")\n",
    "else:\n",
    "    print(f\"City weather not found.\")"
   ]
  },
  {
   "cell_type": "code",
   "execution_count": 23,
   "id": "01ea1ed5",
   "metadata": {},
   "outputs": [
    {
     "name": "stdout",
     "output_type": "stream",
     "text": [
      "City Weather found.\n"
     ]
    }
   ],
   "source": [
    "# run again using JSON method - if status code other than 200, JSON data\n",
    "# will always be returned\n",
    "\n",
    "# Create an endpoint URL for a city.\n",
    "city_url = url + \"&q=\" + \"Bston\"\n",
    "city_weather = requests.get(city_url)\n",
    "if city_weather.json():\n",
    "    print(f\"City Weather found.\")\n",
    "else:\n",
    "    print(f\"City weather not found.\")"
   ]
  },
  {
   "cell_type": "code",
   "execution_count": 24,
   "id": "5c27ab4b",
   "metadata": {},
   "outputs": [],
   "source": [
    "# 6.2.5 Parse a Response fro an API"
   ]
  },
  {
   "cell_type": "code",
   "execution_count": 25,
   "id": "e17e254a",
   "metadata": {},
   "outputs": [
    {
     "data": {
      "text/plain": [
       "{'coord': {'lon': -71.0598, 'lat': 42.3584},\n",
       " 'weather': [{'id': 803,\n",
       "   'main': 'Clouds',\n",
       "   'description': 'broken clouds',\n",
       "   'icon': '04d'}],\n",
       " 'base': 'stations',\n",
       " 'main': {'temp': 74.82,\n",
       "  'feels_like': 74.53,\n",
       "  'temp_min': 70.65,\n",
       "  'temp_max': 78.01,\n",
       "  'pressure': 1020,\n",
       "  'humidity': 54},\n",
       " 'visibility': 10000,\n",
       " 'wind': {'speed': 1.01, 'deg': 0, 'gust': 5.01},\n",
       " 'clouds': {'all': 75},\n",
       " 'dt': 1628003758,\n",
       " 'sys': {'type': 2,\n",
       "  'id': 2013408,\n",
       "  'country': 'US',\n",
       "  'sunrise': 1627983542,\n",
       "  'sunset': 1628035302},\n",
       " 'timezone': -14400,\n",
       " 'id': 4930956,\n",
       " 'name': 'Boston',\n",
       " 'cod': 200}"
      ]
     },
     "execution_count": 25,
     "metadata": {},
     "output_type": "execute_result"
    }
   ],
   "source": [
    "# Create an endpoint URL for a city.\n",
    "# Use correct Boston spelling and get()\n",
    "\n",
    "city_url = url + \"&q=\" + \"Boston\"\n",
    "city_weather = requests.get(city_url)\n",
    "city_weather.json()\n",
    "\n",
    "# output is JSON formatted data for Boston"
   ]
  },
  {
   "cell_type": "code",
   "execution_count": 26,
   "id": "3bb6b27f",
   "metadata": {},
   "outputs": [],
   "source": [
    "# Get the JSON data.\n",
    "# get the data into a variable\n",
    "\n",
    "boston_data = city_weather.json()"
   ]
  },
  {
   "cell_type": "code",
   "execution_count": 27,
   "id": "b25c28cb",
   "metadata": {},
   "outputs": [
    {
     "data": {
      "text/plain": [
       "{'type': 2,\n",
       " 'id': 2013408,\n",
       " 'country': 'US',\n",
       " 'sunrise': 1627983542,\n",
       " 'sunset': 1628035302}"
      ]
     },
     "execution_count": 27,
     "metadata": {},
     "output_type": "execute_result"
    }
   ],
   "source": [
    "# start breaking down the JSON data above to get to country which is\n",
    "# inside sys\n",
    "\n",
    "boston_data['sys']"
   ]
  },
  {
   "cell_type": "code",
   "execution_count": 28,
   "id": "e4711f71",
   "metadata": {},
   "outputs": [
    {
     "data": {
      "text/plain": [
       "'US'"
      ]
     },
     "execution_count": 28,
     "metadata": {},
     "output_type": "execute_result"
    }
   ],
   "source": [
    "# run again with sys and country to get the value from country\n",
    "\n",
    "boston_data['sys']['country']"
   ]
  },
  {
   "cell_type": "code",
   "execution_count": 29,
   "id": "9d736635",
   "metadata": {},
   "outputs": [
    {
     "name": "stdout",
     "output_type": "stream",
     "text": [
      "42.3584 -71.0598 78.01 54 75 1.01\n"
     ]
    }
   ],
   "source": [
    "# get a bunch of stuff at the same time using variables\n",
    "\n",
    "lat = boston_data[\"coord\"][\"lat\"]\n",
    "lng = boston_data[\"coord\"][\"lon\"]\n",
    "max_temp = boston_data[\"main\"][\"temp_max\"]\n",
    "humidity = boston_data[\"main\"][\"humidity\"]\n",
    "clouds = boston_data[\"clouds\"][\"all\"]\n",
    "wind = boston_data[\"wind\"][\"speed\"]\n",
    "print(lat, lng, max_temp, humidity, clouds, wind)\n",
    "\n"
   ]
  },
  {
   "cell_type": "code",
   "execution_count": 30,
   "id": "c626724a",
   "metadata": {},
   "outputs": [
    {
     "data": {
      "text/plain": [
       "1628003758"
      ]
     },
     "execution_count": 30,
     "metadata": {},
     "output_type": "execute_result"
    }
   ],
   "source": [
    "# get date from data\n",
    "\n",
    "boston_data['dt']\n",
    "\n",
    "# output is in seconds\n",
    "# Coordinated Universal Time (UTC) or Greenwich Mean Time (GMT)"
   ]
  },
  {
   "cell_type": "code",
   "execution_count": 31,
   "id": "1590f513",
   "metadata": {},
   "outputs": [
    {
     "data": {
      "text/plain": [
       "datetime.datetime(2021, 8, 3, 15, 15, 58)"
      ]
     },
     "execution_count": 31,
     "metadata": {},
     "output_type": "execute_result"
    }
   ],
   "source": [
    "# Convert time to International Organization for Standardization (ISO) time\n",
    "# use Python datetime module\n",
    "\n",
    "# Import the datetime module from the datetime library.\n",
    "from datetime import datetime\n",
    "# Get the date from the JSON file.\n",
    "date = boston_data[\"dt\"]\n",
    "# Convert the UTC date to a date format with year, month, day, hours, minutes, and seconds.\n",
    "datetime.utcfromtimestamp(date)"
   ]
  },
  {
   "cell_type": "code",
   "execution_count": 32,
   "id": "ef188e66",
   "metadata": {},
   "outputs": [
    {
     "data": {
      "text/plain": [
       "'2021-08-03 15:15:58'"
      ]
     },
     "execution_count": 32,
     "metadata": {},
     "output_type": "execute_result"
    }
   ],
   "source": [
    "# convert datetime again using Python strftime() method\n",
    "\n",
    "datetime.utcfromtimestamp(date).strftime('%Y-%m-%d %H:%M:%S')"
   ]
  },
  {
   "cell_type": "code",
   "execution_count": 34,
   "id": "6254b686",
   "metadata": {},
   "outputs": [
    {
     "data": {
      "text/plain": [
       "1628003975.9513652"
      ]
     },
     "execution_count": 34,
     "metadata": {},
     "output_type": "execute_result"
    }
   ],
   "source": [
    "# Import the time module.\n",
    "import time\n",
    "# Get today's date in seconds.\n",
    "today = time.time()\n",
    "today"
   ]
  },
  {
   "cell_type": "code",
   "execution_count": 35,
   "id": "bbc78d94",
   "metadata": {},
   "outputs": [
    {
     "data": {
      "text/plain": [
       "'08/03/21'"
      ]
     },
     "execution_count": 35,
     "metadata": {},
     "output_type": "execute_result"
    }
   ],
   "source": [
    "# rerun using .strftime  string format method\n",
    "# %x is formatting parameter\n",
    "\n",
    "today = time.strftime(\"%x\")\n",
    "today"
   ]
  },
  {
   "cell_type": "code",
   "execution_count": null,
   "id": "8958e2fa",
   "metadata": {},
   "outputs": [],
   "source": []
  },
  {
   "cell_type": "code",
   "execution_count": null,
   "id": "a8b54f8f",
   "metadata": {},
   "outputs": [],
   "source": []
  },
  {
   "cell_type": "code",
   "execution_count": null,
   "id": "7ca1daf3",
   "metadata": {},
   "outputs": [],
   "source": []
  },
  {
   "cell_type": "code",
   "execution_count": null,
   "id": "8766e1ba",
   "metadata": {},
   "outputs": [],
   "source": []
  },
  {
   "cell_type": "code",
   "execution_count": null,
   "id": "f1e40461",
   "metadata": {},
   "outputs": [],
   "source": []
  },
  {
   "cell_type": "code",
   "execution_count": null,
   "id": "952e5c24",
   "metadata": {},
   "outputs": [],
   "source": []
  },
  {
   "cell_type": "code",
   "execution_count": null,
   "id": "77ddfede",
   "metadata": {},
   "outputs": [],
   "source": []
  }
 ],
 "metadata": {
  "kernelspec": {
   "display_name": "PythonData",
   "language": "python",
   "name": "pythondata"
  },
  "language_info": {
   "codemirror_mode": {
    "name": "ipython",
    "version": 3
   },
   "file_extension": ".py",
   "mimetype": "text/x-python",
   "name": "python",
   "nbconvert_exporter": "python",
   "pygments_lexer": "ipython3",
   "version": "3.7.10"
  }
 },
 "nbformat": 4,
 "nbformat_minor": 5
}
